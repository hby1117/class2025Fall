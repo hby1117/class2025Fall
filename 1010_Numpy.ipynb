{
 "cells": [
  {
   "cell_type": "markdown",
   "id": "e4c51c58",
   "metadata": {},
   "source": [
    "<a href=\"https://colab.research.google.com/github/hby1117/class2025Fall/blob/main/1010_Numpy.ipynb\" target=\"_parent\"><img src=\"https://colab.research.google.com/assets/colab-badge.svg\" alt=\"Open In Colab\"/></a>"
   ]
  },
  {
   "cell_type": "markdown",
   "id": "b036e42a",
   "metadata": {},
   "source": [
    "# Numpy"
   ]
  },
  {
   "cell_type": "markdown",
   "id": "721e94c6",
   "metadata": {},
   "source": [
    "## 1. Package\n",
    "### 1-1. Python Standard Library\n",
    "```python\n",
    "import math\n",
    "\n",
    "a = math.sqrt(16)\n",
    "b = math.pi\n",
    "```"
   ]
  },
  {
   "cell_type": "markdown",
   "id": "cab147be",
   "metadata": {},
   "source": [
    "### 1-2. External Packages\n",
    "```python\n",
    "import nltk\n",
    "\n",
    "distance_0 = nltk.edit_distance(\"cat\", \"cut\")\n",
    "distance_1 = nltk.edit_distance(\"kitten\", \"sitting\")\n",
    "```"
   ]
  },
  {
   "cell_type": "markdown",
   "id": "b91cb625",
   "metadata": {},
   "source": [
    "## 2. Numpy\n",
    "```python\n",
    "import numpy as np\n",
    "a = np.array([1, 2, 3])\n",
    "```"
   ]
  },
  {
   "cell_type": "markdown",
   "id": "72deaae5",
   "metadata": {},
   "source": [
    "```python\n",
    "# Element-wise calculations\n",
    "a + 2\n",
    "a - 2\n",
    "a * 2\n",
    "a / 2\n",
    "a ** 2\n",
    "```"
   ]
  },
  {
   "cell_type": "markdown",
   "id": "354c0306",
   "metadata": {},
   "source": [
    "```python\n",
    "import time\n",
    "\n",
    "# Check time\n",
    "a = [i for i in range(1000000)]\n",
    "b = np.array(a)\n",
    "\n",
    "start_time = time.time()\n",
    "a = [i**2 for i in a]\n",
    "end_time = time.time()\n",
    "\n",
    "list_time = end_time - start_time\n",
    "print(\"list:\", list_time)\n",
    "\n",
    "start_time = time.time()\n",
    "b = b**2\n",
    "end_time = time.time()\n",
    "\n",
    "np_time = end_time - start_time\n",
    "print(\"numpy:\", np_time)\n",
    "```"
   ]
  },
  {
   "cell_type": "markdown",
   "id": "2dbee0b7",
   "metadata": {},
   "source": [
    "```python\n",
    "# Basic functions\n",
    "np.sum(a)\n",
    "np.mean(a)\n",
    "np.min(a)\n",
    "np.max(a)\n",
    "```"
   ]
  },
  {
   "cell_type": "markdown",
   "id": "86179ccd",
   "metadata": {},
   "source": [
    "||column 0|column 1|\n",
    "|-|-|-|\n",
    "|**row 0**|1|2|\n",
    "|**row 1**|3|4|\n",
    "|**row 2**|5|6|\n",
    "\n",
    "```python\n",
    "# Multi-dimensional array\n",
    "a = np.array([[1, 2], [3, 4], [5, 6]])\n",
    "a[0, 1]\n",
    "```"
   ]
  },
  {
   "cell_type": "markdown",
   "id": "ffcdb3c1",
   "metadata": {},
   "source": [
    "```python\n",
    "# Reshape\n",
    "a.reshape(3, 2)\n",
    "\n",
    "# Axis\n",
    "np.mean(a, axis=0)\n",
    "np.mean(a, axis=1)\n",
    "```"
   ]
  },
  {
   "cell_type": "markdown",
   "id": "fdff8746",
   "metadata": {},
   "source": [
    "```python\n",
    "# Real world example\n",
    "import librosa\n",
    "\n",
    "audio, sr = librosa.load(\"audio.wav\")\n",
    "```"
   ]
  }
 ],
 "metadata": {
  "language_info": {
   "name": "python"
  }
 },
 "nbformat": 4,
 "nbformat_minor": 5
}
