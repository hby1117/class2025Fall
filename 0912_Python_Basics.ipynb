{
 "cells": [
  {
   "cell_type": "markdown",
   "id": "8a0c8a56",
   "metadata": {},
   "source": [
    "<a href=\"https://colab.research.google.com/github/hby1117/class2025Fall/blob/main/0912_Python_Basics.ipynb\" target=\"_parent\"><img src=\"https://colab.research.google.com/assets/colab-badge.svg\" alt=\"Open In Colab\"/></a>"
   ]
  },
  {
   "cell_type": "markdown",
   "id": "243d2fe8",
   "metadata": {},
   "source": [
    "# Python Basics"
   ]
  },
  {
   "cell_type": "markdown",
   "id": "f43e2dfc",
   "metadata": {},
   "source": [
    "## 1. Python & Python Interpreter\n",
    "<pre>\n",
    "source code ---> interpreter ---> machine code\n",
    "\n",
    "(python)                          (0s and 1s)\n",
    "</pre>"
   ]
  },
  {
   "cell_type": "markdown",
   "id": "13d97588",
   "metadata": {},
   "source": [
    "## 2. Fundamentals\n",
    "```\n",
    "y = f(x)\n",
    "```\n",
    "1. Data\n",
    "2. Function\n",
    "3. Flow"
   ]
  },
  {
   "cell_type": "markdown",
   "id": "b5c85ff0",
   "metadata": {},
   "source": [
    "## 3. Variable\n",
    "```python\n",
    "a = \"Hello!\"\n",
    "print(a)\n",
    "\n",
    "# Remove\n",
    "del a\n",
    "```"
   ]
  },
  {
   "cell_type": "markdown",
   "id": "71255e5f",
   "metadata": {},
   "source": [
    "## 4. Data Type\n",
    "```python\n",
    "type(a)\n",
    "```"
   ]
  },
  {
   "cell_type": "markdown",
   "id": "f4b0d5b1",
   "metadata": {},
   "source": [
    "### 4-1. Numbers\n",
    "```python\n",
    "a = 1\n",
    "b = 3.14\n",
    "```\n",
    "\n",
    "```python\n",
    "2 + 3\n",
    "2 - 3\n",
    "2 * 3\n",
    "2 / 3\n",
    "2 // 3\n",
    "2 % 3\n",
    "2 ** 3"
   ]
  },
  {
   "cell_type": "markdown",
   "id": "3785a8ec",
   "metadata": {},
   "source": [
    "### 4-2. Sequence: List\n",
    "```python\n",
    "a = [1, 3, 5, 7, 9]\n",
    "b = [15]\n",
    "```"
   ]
  },
  {
   "cell_type": "markdown",
   "id": "eb35ae1f",
   "metadata": {},
   "source": [
    "```python\n",
    "a[0]\n",
    "a[:3]   # same as a[:-2]\n",
    "a[1:3]  # same as a[-4:-2] and a[1:-2]\n",
    "a[1:]   # same as a[-4:]\n",
    "```"
   ]
  },
  {
   "cell_type": "markdown",
   "id": "6c6f4caf",
   "metadata": {},
   "source": [
    "```python\n",
    "# Modify\n",
    "a[0] = 11\n",
    "\n",
    "# Append\n",
    "a.append(13)\n",
    "\n",
    "# Remove\n",
    "a.pop(2)\n",
    "\n",
    "# Combine\n",
    "a + b\n",
    "```"
   ]
  },
  {
   "cell_type": "markdown",
   "id": "9cabdd6b",
   "metadata": {},
   "source": [
    "### 4-3. Sequence: String\n",
    "```python\n",
    "a = \"Hello\"\n",
    "b = \"World!\"\n",
    "```"
   ]
  },
  {
   "cell_type": "markdown",
   "id": "9444e05b",
   "metadata": {},
   "source": [
    "```python\n",
    "a[0]\n",
    "a[:3]   # same as a[:-2]\n",
    "a[1:3]  # same as a[-4:-2] and a[1:-2]\n",
    "a[1:]   # same as a[-4:]\n",
    "```"
   ]
  },
  {
   "cell_type": "markdown",
   "id": "9cb152b5",
   "metadata": {},
   "source": [
    "```python\n",
    "# Combine\n",
    "a + b\n",
    "```"
   ]
  },
  {
   "cell_type": "markdown",
   "id": "e909e07e",
   "metadata": {},
   "source": [
    "### 4-4. Dictionary\n",
    "```python\n",
    "a = {\"name\": \"Suzy\", \"age\": 20}\n",
    "```"
   ]
  },
  {
   "cell_type": "markdown",
   "id": "0c80936b",
   "metadata": {},
   "source": [
    "```python\n",
    "a[\"name\"]\n",
    "\n",
    "# Modify\n",
    "a[\"age\"] = 21\n",
    "\n",
    "# Add\n",
    "a[\"city\"] = \"Seoul\"\n",
    "\n",
    "# Remove\n",
    "del a[\"city\"]\n",
    "```"
   ]
  }
 ],
 "metadata": {
  "language_info": {
   "name": "python"
  }
 },
 "nbformat": 4,
 "nbformat_minor": 5
}
