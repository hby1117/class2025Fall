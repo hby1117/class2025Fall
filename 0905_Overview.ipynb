{
  "cells": [
    {
      "cell_type": "markdown",
      "id": "9751a549",
      "metadata": {},
      "source": [
        "<a href=\"https://colab.research.google.com/github/hby1117/class2025Fall/blob/main/0905_Overview.ipynb\" target=\"_parent\"><img src=\"https://colab.research.google.com/assets/colab-badge.svg\" alt=\"Open In Colab\"/></a>"
      ]
    },
    {
      "cell_type": "markdown",
      "id": "cYC8DBWR_ZaF",
      "metadata": {
        "id": "cYC8DBWR_ZaF"
      },
      "source": [
        "# Class Overview"
      ]
    },
    {
      "cell_type": "markdown",
      "id": "8de34187",
      "metadata": {
        "id": "8de34187"
      },
      "source": [
        "## 1. Phonology & Phonetics\n",
        "### Phonology\n",
        "Phonology is a linguistic field that focuses on the study of the sound patterns and systems in language. It examines how sounds are organized and used in different languages to convey meaning.\n",
        "### Phonetics\n",
        "Phonetics is a linguistic field that deals with the physical properties of speech sounds, such as their articulation, acoustic properties, and auditory perception.\n",
        "### Phonology vs. Phonetics\n",
        "Phonetics focuses on the actual sounds themselves, while phonology examines the abstract rules and patterns that organize those sounds within a language."
      ]
    },
    {
      "cell_type": "markdown",
      "id": "80b752e6",
      "metadata": {},
      "source": [
        "---"
      ]
    },
    {
      "cell_type": "markdown",
      "id": "pu64tXEM_TVB",
      "metadata": {
        "id": "pu64tXEM_TVB"
      },
      "source": [
        "## 2. Program & Programming Language\n",
        "### Program\n",
        "Program is a set of instructions that a computer follows to perform a specific task.\n",
        "### Programming Language\n",
        "Programming Language is a formal language used to write programs so that humans can send instructions to a computer."
      ]
    },
    {
      "cell_type": "markdown",
      "id": "59db1394",
      "metadata": {},
      "source": [
        "---"
      ]
    },
    {
      "cell_type": "markdown",
      "id": "U1-9M6sH_WLT",
      "metadata": {
        "id": "U1-9M6sH_WLT"
      },
      "source": [
        "## 3. Python\n",
        "Python is a high-level programming language known for its readability and versatility. It is widely used in various fields such as:\n",
        "- Data analysis\n",
        "- Web development\n",
        "- Game development\n",
        "- Artificial Intelligence\n",
        "- Animation and graphic design, and more\n",
        "### Features\n",
        "- **Readability**: Python has a clean syntax that makes it easy to read and write code.\n",
        "- **Versatility**: Python is used in various fields.\n",
        "- **Strong community support**: A large and active community contributes to a rich set of libraries.\n",
        "- **Cross-platform compatibility**: Python is available and can run on various operating systems like Windows, Linux, and macOS.\n",
        "### Google Colab\n",
        "- Google colab is a free, easy-to-use online tool where you can write and run Python code without installing anything on your computer."
      ]
    }
  ],
  "metadata": {
    "colab": {
      "provenance": []
    },
    "language_info": {
      "name": "python"
    }
  },
  "nbformat": 4,
  "nbformat_minor": 5
}
