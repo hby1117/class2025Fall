{
 "cells": [
  {
   "cell_type": "markdown",
   "id": "70e189c4",
   "metadata": {},
   "source": [
    "<a href=\"https://colab.research.google.com/github/hby1117/class2025Fall/blob/main/0926_Python_Basics.ipynb\" target=\"_parent\"><img src=\"https://colab.research.google.com/assets/colab-badge.svg\" alt=\"Open In Colab\"/></a>"
   ]
  },
  {
   "cell_type": "markdown",
   "id": "f98b4d3f",
   "metadata": {},
   "source": [
    "# Python Basics"
   ]
  },
  {
   "cell_type": "markdown",
   "id": "3accd1de",
   "metadata": {},
   "source": [
    "## 1. Flow\n",
    "1. if\n",
    "2. for\n",
    "3. while"
   ]
  },
  {
   "cell_type": "markdown",
   "id": "99609fb2",
   "metadata": {},
   "source": [
    "### 1-1. If\n",
    "```python\n",
    "# Boolean\n",
    "a = True\n",
    "b = False\n",
    "```"
   ]
  },
  {
   "cell_type": "markdown",
   "id": "93a75d1e",
   "metadata": {},
   "source": [
    "```python\n",
    "# Comparison\n",
    "a == b\n",
    "a != b\n",
    "```"
   ]
  },
  {
   "cell_type": "markdown",
   "id": "0a4bd7e3",
   "metadata": {},
   "source": [
    "```python\n",
    "# Logical Operation\n",
    "a and b\n",
    "a or b\n",
    "not a\n",
    "```"
   ]
  },
  {
   "cell_type": "markdown",
   "id": "7a2b3249",
   "metadata": {},
   "source": [
    "```python\n",
    "if a < 0:  # Condition 1\n",
    "\tprint(\"This number is a negative number.\")\n",
    "elif a > 0:  # Condition 2\n",
    "\tprint(\"This number is a positive number.\")\n",
    "else:  # Condition 3\n",
    "\tprint(\"This number is 0.\")\n",
    "```"
   ]
  },
  {
   "cell_type": "markdown",
   "id": "bddc983f",
   "metadata": {},
   "source": [
    "### 1-2. For\n",
    "```python\n",
    "for i in [0, 1, 2]:\n",
    "\tprint(i)\n",
    "```"
   ]
  },
  {
   "cell_type": "markdown",
   "id": "5c59def9",
   "metadata": {},
   "source": [
    "```python\n",
    "# Range\n",
    "for i in range(3):\n",
    "\tprint(i)\n",
    "```"
   ]
  },
  {
   "cell_type": "markdown",
   "id": "41378a71",
   "metadata": {},
   "source": [
    "```python\n",
    "# Break\n",
    "for i in range(3):\n",
    "\tif i == 1:\n",
    "\t\tbreak\n",
    "\telse:\n",
    "\t\tprint(i)\n",
    "```"
   ]
  },
  {
   "cell_type": "markdown",
   "id": "189e0402",
   "metadata": {},
   "source": [
    "```python\n",
    "# List Comprehension\n",
    "l = [i * 2 for i in range(3)]"
   ]
  },
  {
   "cell_type": "markdown",
   "id": "8dee12b3",
   "metadata": {},
   "source": [
    "### 1-3. While\n",
    "```python\n",
    "while a < 0:\n",
    "\tprint(a)\n",
    "\ta = a + 1\n",
    "```"
   ]
  },
  {
   "cell_type": "markdown",
   "id": "2a8f12ab",
   "metadata": {},
   "source": [
    "## 2. Function\n",
    "```python\n",
    "print(\"Hello!\")\n",
    "length = len(\"Hello!\")\n",
    "```"
   ]
  },
  {
   "cell_type": "markdown",
   "id": "8f0447a3",
   "metadata": {},
   "source": [
    "```python\n",
    "# Defining a custom function\n",
    "def add(x, y):\n",
    "\tresult = x + y\n",
    "\treturn result\n",
    "\n",
    "# Calling the custom function\n",
    "output = add(1, 2)\n",
    "```"
   ]
  },
  {
   "cell_type": "markdown",
   "id": "e187f9f0",
   "metadata": {},
   "source": [
    "```python\n",
    "# Function scope\n",
    "global_var = \"global\"\n",
    "\n",
    "def custom_f():\n",
    "\tlocal_var = \"local\"\n",
    "\tprint(global_var)\n",
    "\tprint(local_var)\n",
    "\n",
    "custom_f()\n",
    "print(global_var)\n",
    "print(local_var)  # This raises an error\n",
    "```"
   ]
  }
 ],
 "metadata": {
  "language_info": {
   "name": "python"
  }
 },
 "nbformat": 4,
 "nbformat_minor": 5
}
